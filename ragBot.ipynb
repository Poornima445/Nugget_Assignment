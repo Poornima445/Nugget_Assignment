{
 "cells": [
  {
   "cell_type": "code",
   "execution_count": 2,
   "id": "a0a51467-7bee-4e92-8867-fbb6e99532aa",
   "metadata": {},
   "outputs": [
    {
     "name": "stdout",
     "output_type": "stream",
     "text": [
      "Collecting PyPDF2Note: you may need to restart the kernel to use updated packages.\n",
      "\n",
      "  Using cached pypdf2-3.0.1-py3-none-any.whl.metadata (6.8 kB)\n",
      "Downloading pypdf2-3.0.1-py3-none-any.whl (232 kB)\n",
      "Installing collected packages: PyPDF2\n",
      "Successfully installed PyPDF2-3.0.1\n"
     ]
    }
   ],
   "source": [
    "pip install PyPDF2"
   ]
  },
  {
   "cell_type": "code",
   "execution_count": 13,
   "id": "f917060f-d802-40b4-830b-2d0810fc2beb",
   "metadata": {},
   "outputs": [],
   "source": [
    "import os\n",
    "import warnings\n",
    "from PyPDF2 import PdfReader\n",
    "from sentence_transformers import SentenceTransformer\n",
    "import faiss\n",
    "import numpy as np\n",
    "from transformers import GPT2Tokenizer, GPT2LMHeadModel, pipeline"
   ]
  },
  {
   "cell_type": "code",
   "execution_count": 14,
   "id": "e7dfae58-21ae-43b4-846d-3d7057dc5447",
   "metadata": {},
   "outputs": [],
   "source": [
    "warnings.filterwarnings(\"ignore\")\n",
    "os.environ['HF_HUB_DISABLE_SYMLINKS_WARNING'] = '1'"
   ]
  },
  {
   "cell_type": "code",
   "execution_count": 15,
   "id": "03f16440-97fa-46d7-ad8a-97a82ff08b9b",
   "metadata": {},
   "outputs": [],
   "source": [
    "class RestaurantChatbot:\n",
    "    def __init__(self, pdf_path):\n",
    "        # Initialize components\n",
    "        self.pdf_path = pdf_path\n",
    "        self.text = self._extract_text()\n",
    "        self.chunks = self._chunk_text()\n",
    "        self._setup_retrieval()\n",
    "        self._setup_generation()\n",
    "        \n",
    "    def _extract_text(self):\n",
    "        \"\"\"Extract text from PDF\"\"\"\n",
    "        reader = PdfReader(self.pdf_path)\n",
    "        return \"\\n\".join([page.extract_text() for page in reader.pages])\n",
    "    \n",
    "    def _chunk_text(self, chunk_size=300, overlap=50):\n",
    "        \"\"\"Split text into manageable chunks\"\"\"\n",
    "        words = self.text.split()\n",
    "        return [' '.join(words[i:i+chunk_size]) \n",
    "               for i in range(0, len(words), chunk_size - overlap)]\n",
    "    \n",
    "    def _setup_retrieval(self):\n",
    "        \"\"\"Setup FAISS vector store for retrieval\"\"\"\n",
    "        self.embedding_model = SentenceTransformer('all-MiniLM-L6-v2')\n",
    "        embeddings = self.embedding_model.encode(self.chunks)\n",
    "        self.index = faiss.IndexFlatL2(embeddings.shape[1])\n",
    "        self.index.add(embeddings)\n",
    "        \n",
    "    def _setup_generation(self):\n",
    "        \"\"\"Setup text generation pipeline\"\"\"\n",
    "        self.tokenizer = GPT2Tokenizer.from_pretrained('gpt2')\n",
    "        self.tokenizer.pad_token = self.tokenizer.eos_token\n",
    "        self.model = GPT2LMHeadModel.from_pretrained('gpt2')\n",
    "        \n",
    "        self.generator = pipeline(\n",
    "            'text-generation',\n",
    "            model=self.model,\n",
    "            tokenizer=self.tokenizer,\n",
    "            device=-1,\n",
    "            max_new_tokens=100,\n",
    "            truncation=True\n",
    "        )\n",
    "        \n",
    "        # Length management\n",
    "        self.model_max_length = 1024\n",
    "        self.max_context_tokens = 800\n",
    "    \n",
    "    def _retrieve_relevant_chunks(self, query, k=3):\n",
    "        \"\"\"Retrieve most relevant text chunks\"\"\"\n",
    "        query_embedding = self.embedding_model.encode([query])\n",
    "        distances, indices = self.index.search(query_embedding, k)\n",
    "        return [self.chunks[i] for i in indices[0]]\n",
    "    \n",
    "    def _truncate_context(self, context, question):\n",
    "        \"\"\"Ensure input stays within model limits\"\"\"\n",
    "        question_tokens = self.tokenizer.encode(question, return_tensors='pt')\n",
    "        question_length = question_tokens.shape[1]\n",
    "        \n",
    "        context_tokens = self.tokenizer.encode(context, return_tensors='pt')\n",
    "        if context_tokens.shape[1] > self.max_context_tokens:\n",
    "            context_tokens = context_tokens[:, :self.max_context_tokens]\n",
    "            context = self.tokenizer.decode(context_tokens[0])\n",
    "        \n",
    "        return context\n",
    "    \n",
    "    def generate_answer(self, question, context):\n",
    "        \"\"\"Generate answer with safety checks\"\"\"\n",
    "        try:\n",
    "            context = self._truncate_context(context, question)\n",
    "            prompt = f\"Answer based on restaurant information:\\nContext: {context}\\nQuestion: {question}\\nAnswer:\"\n",
    "            \n",
    "            response = self.generator(\n",
    "                prompt,\n",
    "                max_new_tokens=100,\n",
    "                num_return_sequences=1,\n",
    "                temperature=0.7,\n",
    "                truncation=True,\n",
    "                do_sample=True\n",
    "            )\n",
    "            \n",
    "            return response[0]['generated_text'].split(\"Answer:\")[-1].strip()\n",
    "        except Exception as e:\n",
    "            return f\"Error generating answer: {str(e)}\"\n",
    "    \n",
    "    def query(self, question):\n",
    "        \"\"\"Complete RAG workflow\"\"\"\n",
    "        context = \"\\n\".join(self._retrieve_relevant_chunks(question))\n",
    "        return self.generate_answer(question, context)\n",
    "\n"
   ]
  },
  {
   "cell_type": "code",
   "execution_count": 16,
   "id": "300d64b9-f50e-43fd-9f58-8e7cf55a7312",
   "metadata": {},
   "outputs": [
    {
     "name": "stderr",
     "output_type": "stream",
     "text": [
      "Device set to use cpu\n",
      "Token indices sequence length is longer than the specified maximum sequence length for this model (1454 > 1024). Running this sequence through the model will result in indexing errors\n"
     ]
    },
    {
     "name": "stdout",
     "output_type": "stream",
     "text": [
      "\n",
      "Q: Which restaurants serve Biryani in Roorkee?\n",
      "A: 7. T.C. Restaurant - Address: 2318, Civil Lines, Roorkee - Contact: +919930689564 - Cuisine: North Indian, Chinese, Chinese - Opening Info: Open today (11am–1am, 9:45am–12am) - Price Range: ₹30-₹350 - Menu Highlights: - Main Course: Chicken (₹280), Chicken Biryani (₹240) - Sandwich\n",
      "--------------------------------------------------\n",
      "\n",
      "Q: What's the price range at Tamarind Restaurant?\n",
      "A: Price range: ₹40-₹250 - Menu Highlights: - Middle Course: Chicken (₹250) - Main Course: Desserts: Vegetable Spring Rolls (₹120), Paneer Tikka (₹220), Chicken Biryani (₹250) - Margherita Pizza (₹250) - Margherita Pizza (₹250) - Desserts: Gulab Jamun (�\n",
      "--------------------------------------------------\n",
      "\n",
      "Q: Which restaurants are open today?\n",
      "A: A. C. R. C. - Address: 3921 Haridwar Highway, Roorkee, Roorkee Locality, Roorkee - Contact: +91910853345 - Cuisine: Indian, German, Fried Chicken, Pasta, Hamburger, Vegetable Salad, Pasta, Cheese, Pasta, Ketchup, Tomato, Grilled Cheese, Vegetable Salad, Pasta, Pasta Salad, Pasta Salad, Pasta Salad, Pasta\n",
      "--------------------------------------------------\n",
      "\n",
      "Q: Where can I find Italian food in Roorkee?\n",
      "A: The Italian food section of the shop is open 12:00 am to 4pm and 11:00 am to 5pm. Please note that it is not open for dinner.\n",
      "Lunch menu information is available at: http://www.milkbar.com/index.php.\n",
      "I have to get to the supermarket to bring my food to me.\n",
      "Is there a limit to how much I can bring?\n",
      "Yes. Please check the order form and check your order to ensure that\n",
      "--------------------------------------------------\n"
     ]
    }
   ],
   "source": [
    "if __name__ == \"__main__\":\n",
    "    # Initialize with your PDF path\n",
    "    chatbot = RestaurantChatbot(\"respdfdata.pdf\")\n",
    "    \n",
    "    # Example queries\n",
    "    queries = [\n",
    "        \"Which restaurants serve Biryani in Roorkee?\",\n",
    "        \"What's the price range at Tamarind Restaurant?\",\n",
    "        \"Which restaurants are open today?\",\n",
    "        \"Where can I find Italian food in Roorkee?\"\n",
    "    ]\n",
    "    \n",
    "    for query in queries:\n",
    "        print(f\"\\nQ: {query}\")\n",
    "        print(f\"A: {chatbot.query(query)}\")\n",
    "        print(\"-\" * 50)"
   ]
  },
  {
   "cell_type": "code",
   "execution_count": null,
   "id": "0ea09e91-5147-46cd-8f8a-4a88ca11e7ed",
   "metadata": {},
   "outputs": [],
   "source": []
  }
 ],
 "metadata": {
  "kernelspec": {
   "display_name": "Python 3 (ipykernel)",
   "language": "python",
   "name": "python3"
  },
  "language_info": {
   "codemirror_mode": {
    "name": "ipython",
    "version": 3
   },
   "file_extension": ".py",
   "mimetype": "text/x-python",
   "name": "python",
   "nbconvert_exporter": "python",
   "pygments_lexer": "ipython3",
   "version": "3.12.7"
  }
 },
 "nbformat": 4,
 "nbformat_minor": 5
}
